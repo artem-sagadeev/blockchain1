{
 "cells": [
  {
   "cell_type": "markdown",
   "metadata": {},
   "source": [
    "## Импорты"
   ]
  },
  {
   "cell_type": "code",
   "execution_count": 28,
   "metadata": {},
   "outputs": [],
   "source": [
    "from Cryptodome.Signature import PKCS1_v1_5\n",
    "from Cryptodome.Hash import SHA256\n",
    "from Cryptodome.PublicKey import RSA\n",
    "from base64 import decodebytes, encodebytes\n",
    "\n",
    "import json\n",
    "import requests\n",
    "import urllib.parse\n",
    "\n",
    "import numpy as np\n",
    "import pandas as pd"
   ]
  },
  {
   "cell_type": "markdown",
   "metadata": {},
   "source": [
    "## Чтение из файла"
   ]
  },
  {
   "cell_type": "code",
   "execution_count": 29,
   "metadata": {},
   "outputs": [
    {
     "name": "stdout",
     "output_type": "stream",
     "text": [
      "       x1        x2         y\n",
      "0 -0.2999 -0.200000  0.599161\n",
      "1 -0.2996 -0.158579  0.600248\n",
      "2 -0.2991 -0.126795  0.601089\n",
      "3 -0.2984 -0.100000  0.601804\n",
      "4 -0.2975 -0.076393  0.602441\n"
     ]
    }
   ],
   "source": [
    "filename = \"./TSiS/blockchain3/test_data_100.csv\"\n",
    "\n",
    "df = pd.read_csv(filename, delimiter=';')\n",
    "print(df.head())"
   ]
  },
  {
   "cell_type": "code",
   "execution_count": 30,
   "metadata": {},
   "outputs": [
    {
     "name": "stdout",
     "output_type": "stream",
     "text": [
      "       x1        x2\n",
      "0 -0.2999 -0.200000\n",
      "1 -0.2996 -0.158579\n",
      "2 -0.2991 -0.126795\n",
      "3 -0.2984 -0.100000\n",
      "4 -0.2975 -0.076393\n"
     ]
    }
   ],
   "source": [
    "df_x = df[[\"x1\", \"x2\"]]\n",
    "print(df_x.head())"
   ]
  },
  {
   "cell_type": "code",
   "execution_count": 31,
   "metadata": {},
   "outputs": [
    {
     "name": "stdout",
     "output_type": "stream",
     "text": [
      "0    0.599161\n",
      "1    0.600248\n",
      "2    0.601089\n",
      "3    0.601804\n",
      "4    0.602441\n",
      "Name: y, dtype: float64\n"
     ]
    }
   ],
   "source": [
    "df_y = df[\"y\"]\n",
    "print(df_y.head())"
   ]
  },
  {
   "cell_type": "markdown",
   "metadata": {},
   "source": [
    "## Чтение ключей"
   ]
  },
  {
   "cell_type": "code",
   "execution_count": 32,
   "metadata": {},
   "outputs": [
    {
     "name": "stdout",
     "output_type": "stream",
     "text": [
      "30819f300d06092a864886f70d010101050003818d00308189028181009ce497586e7077737e8a8d0db9050b4ab59dfd0c9d19002881ee3ad97c9e2db61b7f8c36b7e3172f0cfb9f7c3227dee0b8260bdc8036c940a2cc38672d1a3b6d1a2352145e3bd1a34e9249aa921ea1657f2401558be630ec504527cafca0847cc265682cb813fb6c005c9d9a40b2accc53b66a12c66dcaabb747dd3c6335c73b0203010001\n",
      "3082025b020100028181009ce497586e7077737e8a8d0db9050b4ab59dfd0c9d19002881ee3ad97c9e2db61b7f8c36b7e3172f0cfb9f7c3227dee0b8260bdc8036c940a2cc38672d1a3b6d1a2352145e3bd1a34e9249aa921ea1657f2401558be630ec504527cafca0847cc265682cb813fb6c005c9d9a40b2accc53b66a12c66dcaabb747dd3c6335c73b02030100010281803fd2adce877eb0d906cd0dfc5b1bb6303a197eeb36ad08e771939bd50560c36fa558098de8d834822b61e0cb010c3f1a634ef6dc483c013a8dff4da28b3274a1951fadbc71e4d9cfc17c956225d613a60fd11c7e93e2f7f36a8bb55a807ba3e596bae6fc84959a426344593142fec9b37d43cfe72f8c11d3bb62d899570de841024100e1b101eaada0581c72d6b295bf0bf202430b061c4b86e03d88c6b3fe9019f849b2ac8b59218254fcdde7e11d176d39a546a8ed6eeeda3c4f9a432193e57a0063024100b1f6605504fb143c1eb742befc8d9eb76f096251684dafcce82688a23b88633e36a0573e5523147a4c10d4186939096d6d640332ced37eb0cb7d120a21b619490240669244d5bc6d483e3daef7e0f8bfdc104d1a007ff18f6df0696e2d35bf961df298a2b47e20ad94248c51ab4cc66ddcaa11d00a80c54b27e7e1ab2ae285838a130240571c92eb0b151c429186835599aa7916b173967ce2e1a43c5927039ae6294ceb173245826d8a4e6bcef02de2051fb64daa4e5a82745b7298780330e164bf0e8102402fb3d99ff20b228c082101ab7d2513a19244bfe3ff26ba5ba7d428723af690e962fe3c77af4d3ce2b100bd39ce8393eae864ee31a0f617db06569faefc90ebe1\n"
     ]
    }
   ],
   "source": [
    "privateKey = RSA.importKey(open(\"./TSiS/blockchain3/private.txt\", \"r\").read())\n",
    "publicKey = RSA.importKey(open(\"./TSiS/blockchain3/public.txt\", \"r\").read())\n",
    "\n",
    "publicKeyHex = publicKey.export_key('DER').hex()\n",
    "privateKeyHex = privateKey.export_key('DER').hex()\n",
    "print(publicKeyHex)\n",
    "print(privateKeyHex)"
   ]
  },
  {
   "cell_type": "markdown",
   "metadata": {},
   "source": [
    "## Подбор весов случайным подбором"
   ]
  },
  {
   "cell_type": "code",
   "execution_count": 33,
   "metadata": {},
   "outputs": [
    {
     "name": "stdout",
     "output_type": "stream",
     "text": [
      "{\"w11\": \"0.40711772012400627\", \"w12\": \"0.6628701855635437\", \"w21\": \"0.5301130836682106\", \"w22\": \"0.4287960791387946\", \"v11\": \"0.19605644690488266\", \"v12\": \"0.19652032330775804\", \"v13\": \"0.03220884373862021\", \"v21\": \"0.5140799676889524\", \"v22\": \"0.2953155111542447\", \"v23\": \"0.10407023733474596\", \"w1\": \"0.8202758384693493\", \"w2\": \"0.23438749826897243\", \"w3\": \"0.9815236538460907\", \"publickey\": \"30819f300d06092a864886f70d010101050003818d00308189028181009ce497586e7077737e8a8d0db9050b4ab59dfd0c9d19002881ee3ad97c9e2db61b7f8c36b7e3172f0cfb9f7c3227dee0b8260bdc8036c940a2cc38672d1a3b6d1a2352145e3bd1a34e9249aa921ea1657f2401558be630ec504527cafca0847cc265682cb813fb6c005c9d9a40b2accc53b66a12c66dcaabb747dd3c6335c73b0203010001\"}\n"
     ]
    }
   ],
   "source": [
    "data = {\n",
    "    \"w11\": str(np.random.rand(1)[0]),\n",
    "    \"w12\": str(np.random.rand(1)[0]),\n",
    "    \"w21\": str(np.random.rand(1)[0]),\n",
    "    \"w22\": str(np.random.rand(1)[0]),\n",
    "\n",
    "    \"v11\": str(np.random.rand(1)[0]),\n",
    "    \"v12\": str(np.random.rand(1)[0]),\n",
    "    \"v13\": str(np.random.rand(1)[0]),\n",
    "    \"v21\": str(np.random.rand(1)[0]),\n",
    "    \"v22\": str(np.random.rand(1)[0]),\n",
    "    \"v23\": str(np.random.rand(1)[0]),\n",
    "    \n",
    "    \"w1\": str(np.random.rand(1)[0]),\n",
    "    \"w2\": str(np.random.rand(1)[0]),\n",
    "    \"w3\": str(np.random.rand(1)[0]),\n",
    "    \"publickey\": publicKeyHex\n",
    "}\n",
    "\n",
    "dataStr = json.dumps(data)\n",
    "print(dataStr)"
   ]
  },
  {
   "cell_type": "code",
   "execution_count": 34,
   "metadata": {},
   "outputs": [
    {
     "name": "stdout",
     "output_type": "stream",
     "text": [
      "success: 0.00855336939181472\n",
      "{\"w11\": \"0.8716569998131201\", \"w12\": \"0.6036557539698342\", \"w21\": \"0.6781071403196672\", \"w22\": \"0.22195912096588444\", \"v11\": \"0.7135882548573835\", \"v12\": \"0.9080348054517081\", \"v13\": \"0.9257711417285412\", \"v21\": \"0.38555194799069703\", \"v22\": \"0.49209711510293397\", \"v23\": \"0.659157483629762\", \"w1\": \"0.185458826826165\", \"w2\": \"0.3299425870525666\", \"w3\": \"0.17858636638818115\", \"publickey\": \"30819f300d06092a864886f70d010101050003818d00308189028181009ce497586e7077737e8a8d0db9050b4ab59dfd0c9d19002881ee3ad97c9e2db61b7f8c36b7e3172f0cfb9f7c3227dee0b8260bdc8036c940a2cc38672d1a3b6d1a2352145e3bd1a34e9249aa921ea1657f2401558be630ec504527cafca0847cc265682cb813fb6c005c9d9a40b2accc53b66a12c66dcaabb747dd3c6335c73b0203010001\", \"e\": 0.00855336939181472}\n"
     ]
    }
   ],
   "source": [
    "import math\n",
    "\n",
    "def f(x):\n",
    "    return 1 / (1 + math.exp(-x))\n",
    "\n",
    "limit = 0.01\n",
    "\n",
    "for k in range(0, 500000):\n",
    "    data = {\n",
    "        \"w11\": str(np.random.rand(1)[0]),\n",
    "        \"w12\": str(np.random.rand(1)[0]),\n",
    "        \"w21\": str(np.random.rand(1)[0]),\n",
    "        \"w22\": str(np.random.rand(1)[0]),\n",
    "\n",
    "        \"v11\": str(np.random.rand(1)[0]),\n",
    "        \"v12\": str(np.random.rand(1)[0]),\n",
    "        \"v13\": str(np.random.rand(1)[0]),\n",
    "        \"v21\": str(np.random.rand(1)[0]),\n",
    "        \"v22\": str(np.random.rand(1)[0]),\n",
    "        \"v23\": str(np.random.rand(1)[0]),\n",
    "        \n",
    "        \"w1\": str(np.random.rand(1)[0]),\n",
    "        \"w2\": str(np.random.rand(1)[0]),\n",
    "        \"w3\": str(np.random.rand(1)[0]),\n",
    "        \"publickey\": publicKeyHex\n",
    "    }\n",
    "\n",
    "    s = 0\n",
    "    for i in range(0, len(df)):\n",
    "        x1 = df_x['x1'][i]\n",
    "        x2 = df_x['x2'][i]\n",
    "        h11 = f(x1*float(data['w11']) + x2*float(data['w21']))\n",
    "        h12 = f(x1*float(data['w12']) + x2*float(data['w22']))\n",
    "        q1 = f(h11*float(data['v11']) + h12*float(data['v21']))*float(data['w1'])\n",
    "        q2 = f(h11*float(data['v12']) + h12*float(data['v22']))*float(data['w2'])\n",
    "        q3 = f(h11*float(data['v13']) + h12*float(data['v23']))*float(data['w3'])\n",
    "        er = f(q1 + q2 + q3)\n",
    "        \n",
    "        s += (er - df_y[i]) * (er - df_y[i])\n",
    "\n",
    "    if(s < limit):\n",
    "        print(f\"success: {s}\")\n",
    "        data[\"e\"] = s\n",
    "        break\n",
    "\n",
    "dataStr = json.dumps(data)\n",
    "print(dataStr)"
   ]
  },
  {
   "cell_type": "markdown",
   "metadata": {},
   "source": [
    "## Публичный ключ"
   ]
  },
  {
   "cell_type": "code",
   "execution_count": 35,
   "metadata": {},
   "outputs": [],
   "source": [
    "data[\"publickey\"] = publicKeyHex"
   ]
  },
  {
   "cell_type": "markdown",
   "metadata": {},
   "source": [
    "## Получение последнего блока и его хеша"
   ]
  },
  {
   "cell_type": "code",
   "execution_count": 36,
   "metadata": {},
   "outputs": [
    {
     "name": "stdout",
     "output_type": "stream",
     "text": [
      "{'prevhash': '04c2b0c7f37e065beab29be91f7d571087743c404e26d3911fd4ec37d44f5080', 'data': {'w11': '0.613304195633', 'w12': '0.390071360605', 'w21': '0.703192660823', 'w22': '0.456601837993', 'v11': '0.141540698763', 'v12': '0.029720394515', 'v13': '0.855101767803', 'v21': '0.205988936748', 'v22': '0.177878092032', 'v23': '0.983949000097', 'w1': '0.451711939543', 'w2': '0.157189183348', 'w3': '0.234710304119', 'e': '0.009886374184', 'publickey': '30819f300d06092a864886f70d010101050003818d003081890281810082eca3805a75a0a718574dab93f92726a426c9452c5d6611cb9a5cd0e3fdbf0241a508853b7963c3d4d9f193dca6bcf75339423659a9f3122fa4e46d45e80a8459d8a20539418eaf68faf42bdbf8bcf88c20eda4cd1595ed82f696b90bcb4e120c96ec2f8e99aaec87399517d0ee1702545363fc11ea874cc1953daf6861dd490203010001'}, 'signature': '171c3ab3aa65102640917ae8298d28bc5c1d5546f9bfc3e35790d5726a4e0f1bf2898728eb1167c37758f9494bb3271aae1c06281ceff3479e2e04420da17753e487880deb9c173fee4998ece4622bf8c96b4bfbd703663439ffb83de02a287fc9621eaa9a4099633f453018a89fcb7cec7ad2682fd90e01c018308a78a648d2', 'ts': '2022-12-27T03:01:20.642+03', 'arbitersignature': '22b6d45ab37f36645107f2392d4b4a87bead018ea1747aa81d834bc42d9a322ef1d58be2d0a90122ac3ffe423e69cde2c1d4768a273963503f78cff8b19ce0c3fadec0d5c66ae871fa730ce14349ba555fdff10737571ac16ab018d0836ba29257668cbe145a29aff2a5e64a07f29d28fcc43de7e61b653c9902fa54b3c86a90'}\n"
     ]
    }
   ],
   "source": [
    "resp = requests.get(\"http://89.108.115.118/nbc/chain\")\n",
    "lastBlock = resp.json()[-1]\n",
    "print(lastBlock)"
   ]
  },
  {
   "cell_type": "code",
   "execution_count": 37,
   "metadata": {},
   "outputs": [],
   "source": [
    "def calculatePrevHash(data):\n",
    "    return SHA256.new(\n",
    "        bytearray.fromhex(data['prevhash']) + \n",
    "        str.encode(json.dumps(data['data']).replace(\" \", \"\")) + \n",
    "        bytearray.fromhex(data['signature'])\n",
    "    ).hexdigest()"
   ]
  },
  {
   "cell_type": "code",
   "execution_count": 38,
   "metadata": {},
   "outputs": [
    {
     "data": {
      "text/plain": [
       "'690725e5d170b55485fbcb713c792668fc31b2fbff22965f51a9f9363f5dd45f'"
      ]
     },
     "execution_count": 38,
     "metadata": {},
     "output_type": "execute_result"
    }
   ],
   "source": [
    "calculatePrevHash(lastBlock)"
   ]
  },
  {
   "cell_type": "markdown",
   "metadata": {},
   "source": [
    "## Вычисления подписи строки с помощью алгоритма RSAwithSHA256"
   ]
  },
  {
   "cell_type": "code",
   "execution_count": 39,
   "metadata": {},
   "outputs": [],
   "source": [
    "def calculateDataHash(data):\n",
    "    return SHA256.new(str.encode(data))\n",
    "\n",
    "def getSign(data, privateKey):\n",
    "    signer = PKCS1_v1_5.new(privateKey)\n",
    "    return signer.sign(calculateDataHash(data)).hex()"
   ]
  },
  {
   "cell_type": "markdown",
   "metadata": {},
   "source": [
    "## Подготовка данных для отправки"
   ]
  },
  {
   "cell_type": "code",
   "execution_count": 40,
   "metadata": {},
   "outputs": [
    {
     "name": "stdout",
     "output_type": "stream",
     "text": [
      "{'w11': '0.871656999813', 'w12': '0.603655753970', 'w21': '0.678107140320', 'w22': '0.221959120966', 'v11': '0.713588254857', 'v12': '0.908034805452', 'v13': '0.925771141729', 'v21': '0.385551947991', 'v22': '0.492097115103', 'v23': '0.659157483630', 'w1': '0.185458826826', 'w2': '0.329942587053', 'w3': '0.178586366388', 'e': '0.008553369392', 'publickey': '30819f300d06092a864886f70d010101050003818d00308189028181009ce497586e7077737e8a8d0db9050b4ab59dfd0c9d19002881ee3ad97c9e2db61b7f8c36b7e3172f0cfb9f7c3227dee0b8260bdc8036c940a2cc38672d1a3b6d1a2352145e3bd1a34e9249aa921ea1657f2401558be630ec504527cafca0847cc265682cb813fb6c005c9d9a40b2accc53b66a12c66dcaabb747dd3c6335c73b0203010001'}\n"
     ]
    }
   ],
   "source": [
    "def prettyFloat(x):\n",
    "    return '%.12f' % float(x)\n",
    "\n",
    "data2 = {\n",
    "    \"w11\": prettyFloat(data[\"w11\"]),\n",
    "    \"w12\": prettyFloat(data[\"w12\"]),\n",
    "    \"w21\": prettyFloat(data[\"w21\"]),\n",
    "    \"w22\": prettyFloat(data[\"w22\"]),\n",
    "    \"v11\": prettyFloat(data[\"v11\"]),\n",
    "    \"v12\": prettyFloat(data[\"v12\"]),\n",
    "    \"v13\": prettyFloat(data[\"v13\"]),\n",
    "    \"v21\": prettyFloat(data[\"v21\"]),\n",
    "    \"v22\": prettyFloat(data[\"v22\"]),\n",
    "    \"v23\": prettyFloat(data[\"v23\"]),\n",
    "    \"w1\":  prettyFloat(data[\"w1\"]),\n",
    "    \"w2\":  prettyFloat(data[\"w2\"]),\n",
    "    \"w3\":  prettyFloat(data[\"w3\"]),\n",
    "    \"e\":  prettyFloat(data[\"e\"]),\n",
    "    \"publickey\": data[\"publickey\"]\n",
    "}\n",
    "print(data2)"
   ]
  },
  {
   "cell_type": "code",
   "execution_count": 41,
   "metadata": {},
   "outputs": [
    {
     "data": {
      "text/plain": [
       "'{\"w11\":\"0.871656999813\",\"w12\":\"0.603655753970\",\"w21\":\"0.678107140320\",\"w22\":\"0.221959120966\",\"v11\":\"0.713588254857\",\"v12\":\"0.908034805452\",\"v13\":\"0.925771141729\",\"v21\":\"0.385551947991\",\"v22\":\"0.492097115103\",\"v23\":\"0.659157483630\",\"w1\":\"0.185458826826\",\"w2\":\"0.329942587053\",\"w3\":\"0.178586366388\",\"e\":\"0.008553369392\",\"publickey\":\"30819f300d06092a864886f70d010101050003818d00308189028181009ce497586e7077737e8a8d0db9050b4ab59dfd0c9d19002881ee3ad97c9e2db61b7f8c36b7e3172f0cfb9f7c3227dee0b8260bdc8036c940a2cc38672d1a3b6d1a2352145e3bd1a34e9249aa921ea1657f2401558be630ec504527cafca0847cc265682cb813fb6c005c9d9a40b2accc53b66a12c66dcaabb747dd3c6335c73b0203010001\"}'"
      ]
     },
     "execution_count": 41,
     "metadata": {},
     "output_type": "execute_result"
    }
   ],
   "source": [
    "dataStr = json.dumps(data2).replace(\" \", \"\")\n",
    "dataStr"
   ]
  },
  {
   "cell_type": "markdown",
   "metadata": {},
   "source": [
    "## Отправка блока"
   ]
  },
  {
   "cell_type": "code",
   "execution_count": 42,
   "metadata": {},
   "outputs": [
    {
     "name": "stdout",
     "output_type": "stream",
     "text": [
      "{'prevhash': '690725e5d170b55485fbcb713c792668fc31b2fbff22965f51a9f9363f5dd45f', 'data': {'w11': '0.871656999813', 'w12': '0.603655753970', 'w21': '0.678107140320', 'w22': '0.221959120966', 'v11': '0.713588254857', 'v12': '0.908034805452', 'v13': '0.925771141729', 'v21': '0.385551947991', 'v22': '0.492097115103', 'v23': '0.659157483630', 'w1': '0.185458826826', 'w2': '0.329942587053', 'w3': '0.178586366388', 'e': '0.008553369392', 'publickey': '30819f300d06092a864886f70d010101050003818d00308189028181009ce497586e7077737e8a8d0db9050b4ab59dfd0c9d19002881ee3ad97c9e2db61b7f8c36b7e3172f0cfb9f7c3227dee0b8260bdc8036c940a2cc38672d1a3b6d1a2352145e3bd1a34e9249aa921ea1657f2401558be630ec504527cafca0847cc265682cb813fb6c005c9d9a40b2accc53b66a12c66dcaabb747dd3c6335c73b0203010001'}, 'signature': '94fe18de1633c26920b8b8138ca16bf5d4f04babd565f7a8bd86fc1466f5303303fd10cc0dd883fcac17a0f3f76a21b207129d17ccdcdcb731f9aadc5748066d2ee1125d6f95ed898900c852ed1c46e2b75dfb5fd9ebd2873edbbaf3870290bf735bfe705bb4309a424c68cd200fe60a6c76b647b134d6cade3d8b3253aa3d93'}\n",
      "{\"prevhash\":\"690725e5d170b55485fbcb713c792668fc31b2fbff22965f51a9f9363f5dd45f\",\"data\":{\"w11\":\"0.871656999813\",\"w12\":\"0.603655753970\",\"w21\":\"0.678107140320\",\"w22\":\"0.221959120966\",\"v11\":\"0.713588254857\",\"v12\":\"0.908034805452\",\"v13\":\"0.925771141729\",\"v21\":\"0.385551947991\",\"v22\":\"0.492097115103\",\"v23\":\"0.659157483630\",\"w1\":\"0.185458826826\",\"w2\":\"0.329942587053\",\"w3\":\"0.178586366388\",\"e\":\"0.008553369392\",\"publickey\":\"30819f300d06092a864886f70d010101050003818d00308189028181009ce497586e7077737e8a8d0db9050b4ab59dfd0c9d19002881ee3ad97c9e2db61b7f8c36b7e3172f0cfb9f7c3227dee0b8260bdc8036c940a2cc38672d1a3b6d1a2352145e3bd1a34e9249aa921ea1657f2401558be630ec504527cafca0847cc265682cb813fb6c005c9d9a40b2accc53b66a12c66dcaabb747dd3c6335c73b0203010001\"},\"signature\":\"94fe18de1633c26920b8b8138ca16bf5d4f04babd565f7a8bd86fc1466f5303303fd10cc0dd883fcac17a0f3f76a21b207129d17ccdcdcb731f9aadc5748066d2ee1125d6f95ed898900c852ed1c46e2b75dfb5fd9ebd2873edbbaf3870290bf735bfe705bb4309a424c68cd200fe60a6c76b647b134d6cade3d8b3253aa3d93\"}\n"
     ]
    }
   ],
   "source": [
    "body = {\n",
    "    \"prevhash\": calculatePrevHash(lastBlock),\n",
    "    \"data\": data2,\n",
    "    \"signature\": getSign(dataStr, privateKey)\n",
    "}\n",
    "\n",
    "bodyStr = json.dumps(body).replace(\" \", \"\")\n",
    "print(body)\n",
    "print(bodyStr)"
   ]
  },
  {
   "cell_type": "code",
   "execution_count": 43,
   "metadata": {
    "collapsed": false,
    "pycharm": {
     "name": "#%%\n"
    }
   },
   "outputs": [
    {
     "name": "stdout",
     "output_type": "stream",
     "text": [
      "{'status': 0, 'statusString': '', 'block': {'prevhash': '690725e5d170b55485fbcb713c792668fc31b2fbff22965f51a9f9363f5dd45f', 'data': {'w11': '0.871656999813', 'w12': '0.603655753970', 'w21': '0.678107140320', 'w22': '0.221959120966', 'v11': '0.713588254857', 'v12': '0.908034805452', 'v13': '0.925771141729', 'v21': '0.385551947991', 'v22': '0.492097115103', 'v23': '0.659157483630', 'w1': '0.185458826826', 'w2': '0.329942587053', 'w3': '0.178586366388', 'e': '0.008553369392', 'publickey': '30819f300d06092a864886f70d010101050003818d00308189028181009ce497586e7077737e8a8d0db9050b4ab59dfd0c9d19002881ee3ad97c9e2db61b7f8c36b7e3172f0cfb9f7c3227dee0b8260bdc8036c940a2cc38672d1a3b6d1a2352145e3bd1a34e9249aa921ea1657f2401558be630ec504527cafca0847cc265682cb813fb6c005c9d9a40b2accc53b66a12c66dcaabb747dd3c6335c73b0203010001'}, 'signature': '94fe18de1633c26920b8b8138ca16bf5d4f04babd565f7a8bd86fc1466f5303303fd10cc0dd883fcac17a0f3f76a21b207129d17ccdcdcb731f9aadc5748066d2ee1125d6f95ed898900c852ed1c46e2b75dfb5fd9ebd2873edbbaf3870290bf735bfe705bb4309a424c68cd200fe60a6c76b647b134d6cade3d8b3253aa3d93', 'ts': '2022-12-27T03:09:58.148+03', 'arbitersignature': '8bd41b3e342ce3dfd4cd68b652542139cf1650f05ce85420a524539ef6c2353ef32b1a1f37fe55bb09cbd8494adfd55f95779073699a90b24f65c19ab247dc176e9ff3091aa786bbe86a595e102dc98372823a4f586ea7d5a5af0180c0c2e0c4f9cb916f1f8d5a86ae43aa5bf562ba058e40ebcc93fe6bd886ef7f93c98dbf53'}}\n"
     ]
    }
   ],
   "source": [
    "headers = {\"Content-Type\": \"application/json;charset=UTF-8\"}\n",
    "# закомментировал, чтобы случайно не отправить\n",
    "# resp = requests.post(f\"http://89.108.115.118/nbc/newblock\", headers=headers, json = body)\n",
    "# print(resp.json())"
   ]
  },
  {
   "cell_type": "markdown",
   "metadata": {},
   "source": [
    "## Отправка автора"
   ]
  },
  {
   "cell_type": "code",
   "execution_count": 44,
   "metadata": {},
   "outputs": [
    {
     "name": "stdout",
     "output_type": "stream",
     "text": [
      "{'status': 0, 'statusString': 'Автор успешно добавлен'}\n"
     ]
    }
   ],
   "source": [
    "authorStr = \"Сагадеев Артем, 11-909\"\n",
    "author = {\n",
    "    \"autor\": authorStr,\n",
    "    \"sign\": getSign(authorStr, privateKey),\n",
    "    \"publickey\": publicKeyHex\n",
    "}\n",
    "\n",
    "headers = {\"Content-Type\": \"application/json;charset=UTF-8\"}\n",
    "# закомментировал, чтобы случайно не отправить\n",
    "# resp = requests.post(f\"http://89.108.115.118/nbc/autor\", headers=headers, json=author)\n",
    "# print(resp.json())"
   ]
  }
 ],
 "metadata": {
  "kernelspec": {
   "display_name": "Python 3",
   "language": "python",
   "name": "python3"
  },
  "language_info": {
   "codemirror_mode": {
    "name": "ipython",
    "version": 3
   },
   "file_extension": ".py",
   "mimetype": "text/x-python",
   "name": "python",
   "nbconvert_exporter": "python",
   "pygments_lexer": "ipython3",
   "version": "3.11.1 (tags/v3.11.1:a7a450f, Dec  6 2022, 19:58:39) [MSC v.1934 64 bit (AMD64)]"
  },
  "orig_nbformat": 4,
  "vscode": {
   "interpreter": {
    "hash": "c32f88635c1fda624837f724fc2801f0fbaef4e6da64f879da3e585b87524488"
   }
  }
 },
 "nbformat": 4,
 "nbformat_minor": 2
}
